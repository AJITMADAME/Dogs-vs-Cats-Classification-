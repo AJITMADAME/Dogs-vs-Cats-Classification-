{
  "cells": [
    {
      "cell_type": "code",
      "execution_count": null,
      "metadata": {
        "id": "VxiayMPHISkQ"
      },
      "outputs": [],
      "source": [
        "# for reading the kaggle API\n",
        "!mkdir -p ~/.kaggle\n",
        "!cp kaggle.json ~/.kaggle/\n",
        "     "
      ]
    },
    {
      "cell_type": "code",
      "execution_count": null,
      "metadata": {
        "colab": {
          "base_uri": "https://localhost:8080/"
        },
        "id": "HM5Zns3UKGO4",
        "outputId": "578c5090-0c39-4ba7-aeff-90b8a06d76ef"
      },
      "outputs": [
        {
          "name": "stdout",
          "output_type": "stream",
          "text": [
            "Warning: Your Kaggle API key is readable by other users on this system! To fix this, you can run 'chmod 600 /root/.kaggle/kaggle.json'\n",
            "Downloading dogs-vs-cats.zip to /content\n",
            " 99% 1.06G/1.06G [00:12<00:00, 155MB/s]\n",
            "100% 1.06G/1.06G [00:12<00:00, 90.0MB/s]\n"
          ]
        }
      ],
      "source": [
        "# Downloading the data from kaggle\n",
        "!kaggle datasets download -d salader/dogs-vs-cats"
      ]
    },
    {
      "cell_type": "code",
      "execution_count": null,
      "metadata": {
        "id": "MRig2Q3sKGYz"
      },
      "outputs": [],
      "source": [
        "# Extract the zipfile\n",
        "\n",
        "import zipfile\n",
        "zip_ref = zipfile.ZipFile('/content/dogs-vs-cats.zip', 'r')\n",
        "zip_ref.extractall('/content')\n",
        "zip_ref.close()\n",
        "     "
      ]
    },
    {
      "cell_type": "code",
      "execution_count": null,
      "metadata": {
        "id": "HWzc2FS6KWfS"
      },
      "outputs": [],
      "source": [
        "import tensorflow as tf\n",
        "from  tensorflow import keras\n",
        "from keras import Sequential\n",
        "from keras.layers import Dense, Conv2D, MaxPooling2D, Flatten,BatchNormalization,Dropout"
      ]
    },
    {
      "cell_type": "code",
      "execution_count": null,
      "metadata": {
        "colab": {
          "base_uri": "https://localhost:8080/"
        },
        "id": "bSr2n7G_KWiW",
        "outputId": "8ace552f-9e8f-4a17-96f6-36723bd432ab"
      },
      "outputs": [
        {
          "name": "stdout",
          "output_type": "stream",
          "text": [
            "Found 20000 files belonging to 2 classes.\n",
            "Found 5000 files belonging to 2 classes.\n"
          ]
        }
      ],
      "source": [
        "# Generator\n",
        "\n",
        "train_ds = keras.utils.image_dataset_from_directory(\n",
        "    directory = '/content/train',\n",
        "    labels = 'inferred',\n",
        "    label_mode = 'int',\n",
        "    batch_size = 32,\n",
        "    image_size=(256,256)\n",
        ")\n",
        "\n",
        "validation_ds = keras.utils.image_dataset_from_directory(\n",
        "    directory = '/content/test',\n",
        "    labels = 'inferred',\n",
        "    label_mode = 'int',\n",
        "    batch_size = 32,\n",
        "    image_size=(256,256)\n",
        ")"
      ]
    },
    {
      "cell_type": "code",
      "execution_count": null,
      "metadata": {
        "id": "joyjWBvnKmJG"
      },
      "outputs": [],
      "source": [
        "# Normalize\n",
        "\n",
        "def process(image,label):\n",
        "  image = tf.cast(image/255. ,tf.float32)\n",
        "  return image,label\n",
        "\n",
        "ts = train_ds.map(process)\n",
        "validation_ds = validation_ds.map(process)\n",
        "     "
      ]
    },
    {
      "cell_type": "code",
      "execution_count": null,
      "metadata": {
        "id": "05n2oYxEKmLz"
      },
      "outputs": [],
      "source": [
        "from keras.applications.vgg16 import VGG16"
      ]
    },
    {
      "cell_type": "code",
      "execution_count": null,
      "metadata": {
        "colab": {
          "background_save": true
        },
        "id": "uWf6D5gWKmO5",
        "outputId": "d4950acc-2503-4be5-a71a-2d244c3a9eab"
      },
      "outputs": [
        {
          "name": "stdout",
          "output_type": "stream",
          "text": [
            "Downloading data from https://storage.googleapis.com/tensorflow/keras-applications/vgg16/vgg16_weights_tf_dim_ordering_tf_kernels_notop.h5\n",
            "58889256/58889256 [==============================] - 0s 0us/step\n"
          ]
        }
      ],
      "source": [
        "## Create conv_base model\n",
        "conv_base = VGG16(\n",
        "    weights = 'imagenet',\n",
        "    include_top = False,\n",
        "    input_shape = (150,150,3)\n",
        ")"
      ]
    },
    {
      "cell_type": "code",
      "execution_count": null,
      "metadata": {
        "id": "cEdvxV1nKmR2"
      },
      "outputs": [],
      "source": [
        "# Model Building\n",
        "model=Sequential()\n",
        "\n",
        "model.add(conv_base)   # Base model VGG16 used as top \n",
        "model.add(Flatten())\n",
        "model.add(Dense(256,activation='relu'))\n",
        "model.add(Dense(1, activation='sigmoid'))"
      ]
    },
    {
      "cell_type": "code",
      "execution_count": null,
      "metadata": {
        "id": "fFBnosyJKmUl"
      },
      "outputs": [],
      "source": [
        "# VGG16 top is false\n",
        "conv_base.trainable = False"
      ]
    },
    {
      "cell_type": "code",
      "execution_count": null,
      "metadata": {
        "id": "TvJQFVkrKmXe"
      },
      "outputs": [],
      "source": [
        "from keras.preprocessing.image import ImageDataGenerator"
      ]
    },
    {
      "cell_type": "code",
      "execution_count": null,
      "metadata": {
        "id": "TFL5Zha5KmaW"
      },
      "outputs": [],
      "source": [
        "from tensorflow.keras.utils import img_to_array, array_to_img, load_img\n",
        "#from keras.preprocessing.image import array_to_img, img_to_array, load_img"
      ]
    },
    {
      "cell_type": "code",
      "execution_count": null,
      "metadata": {
        "colab": {
          "base_uri": "https://localhost:8080/"
        },
        "id": "OwCszVk8Kmd5",
        "outputId": "f76d8c30-2015-4f9f-d772-555953126e23"
      },
      "outputs": [
        {
          "name": "stdout",
          "output_type": "stream",
          "text": [
            "Found 20000 images belonging to 2 classes.\n",
            "Found 5000 images belonging to 2 classes.\n"
          ]
        }
      ],
      "source": [
        "# Use Data Augmentation\n",
        "# Here I used ImageData Generator\n",
        "\n",
        "batch_size = 32\n",
        "\n",
        "train_datagen = ImageDataGenerator(\n",
        "    rescale=1./255,\n",
        "    shear_range = 0.2,\n",
        "    zoom_range=0.2,\n",
        "    horizontal_flip=True)\n",
        "\n",
        "test_datagen = ImageDataGenerator(rescale=1./255)\n",
        "\n",
        "train_generator = train_datagen.flow_from_directory(\n",
        "    '/content/train',\n",
        "    target_size=(150,150),\n",
        "    batch_size=batch_size,\n",
        "    class_mode='binary')\n",
        "\n",
        "validation_generator = test_datagen.flow_from_directory(\n",
        "    '/content/test',\n",
        "    target_size=(150,150),\n",
        "    batch_size=batch_size,\n",
        "    class_mode='binary')\n",
        "\n"
      ]
    },
    {
      "cell_type": "code",
      "execution_count": null,
      "metadata": {
        "id": "xpEmq03FKmgs"
      },
      "outputs": [],
      "source": [
        "# Compile the model\n",
        "model.compile(optimizer='adam',loss='binary_crossentropy',metrics=['accuracy'])"
      ]
    },
    {
      "cell_type": "code",
      "execution_count": null,
      "metadata": {
        "colab": {
          "background_save": true,
          "base_uri": "https://localhost:8080/"
        },
        "id": "PZZmdrBqanAV",
        "outputId": "f0aae361-076c-4512-a960-8e5e8cabbaa0"
      },
      "outputs": [
        {
          "name": "stderr",
          "output_type": "stream",
          "text": [
            "<ipython-input-28-203589065993>:1: UserWarning: `Model.fit_generator` is deprecated and will be removed in a future version. Please use `Model.fit`, which supports generators.\n",
            "  history = model.fit_generator(\n"
          ]
        },
        {
          "name": "stdout",
          "output_type": "stream",
          "text": [
            "Epoch 1/10\n",
            "625/625 [==============================] - 190s 284ms/step - loss: 0.2992 - accuracy: 0.8684 - val_loss: 0.2274 - val_accuracy: 0.9042\n",
            "Epoch 2/10\n",
            "625/625 [==============================] - 192s 307ms/step - loss: 0.2396 - accuracy: 0.8966 - val_loss: 0.2125 - val_accuracy: 0.9098\n",
            "Epoch 3/10\n",
            "625/625 [==============================] - 173s 276ms/step - loss: 0.2245 - accuracy: 0.9043 - val_loss: 0.2124 - val_accuracy: 0.9094\n",
            "Epoch 4/10\n",
            "625/625 [==============================] - 172s 275ms/step - loss: 0.2097 - accuracy: 0.9097 - val_loss: 0.1949 - val_accuracy: 0.9170\n",
            "Epoch 5/10\n",
            "625/625 [==============================] - 172s 275ms/step - loss: 0.2018 - accuracy: 0.9144 - val_loss: 0.2308 - val_accuracy: 0.8988\n",
            "Epoch 6/10\n",
            "625/625 [==============================] - 172s 275ms/step - loss: 0.1896 - accuracy: 0.9190 - val_loss: 0.1867 - val_accuracy: 0.9230\n",
            "Epoch 7/10\n",
            "625/625 [==============================] - 172s 275ms/step - loss: 0.1822 - accuracy: 0.9243 - val_loss: 0.1977 - val_accuracy: 0.9168\n",
            "Epoch 8/10\n",
            "625/625 [==============================] - 173s 276ms/step - loss: 0.1744 - accuracy: 0.9265 - val_loss: 0.2053 - val_accuracy: 0.9200\n",
            "Epoch 9/10\n",
            "625/625 [==============================] - 172s 275ms/step - loss: 0.1665 - accuracy: 0.9296 - val_loss: 0.2012 - val_accuracy: 0.9164\n",
            "Epoch 10/10\n",
            "625/625 [==============================] - 173s 277ms/step - loss: 0.1586 - accuracy: 0.9344 - val_loss: 0.2141 - val_accuracy: 0.9148\n"
          ]
        }
      ],
      "source": [
        "# Fit the mode \n",
        "# here I used fit_generator because ImageDataGenerator is used for Data Augumentation\n",
        "history = model.fit_generator(\n",
        "    train_generator,\n",
        "    epochs=10,\n",
        "    validation_data=validation_generator)"
      ]
    },
    {
      "cell_type": "code",
      "source": [
        "import matplotlib.pyplot as plt"
      ],
      "metadata": {
        "id": "U9VsFNNkjf2Y"
      },
      "execution_count": 30,
      "outputs": []
    },
    {
      "cell_type": "code",
      "execution_count": 31,
      "metadata": {
        "id": "gfu-yh9UanHe",
        "colab": {
          "base_uri": "https://localhost:8080/",
          "height": 430
        },
        "outputId": "840ac482-8c86-4262-8767-0b4af904e72b"
      },
      "outputs": [
        {
          "output_type": "display_data",
          "data": {
            "text/plain": [
              "<Figure size 640x480 with 1 Axes>"
            ],
            "image/png": "[encoded data removed]"
          },
          "metadata": {}
        }
      ],
      "source": [
        "# Accuracuy Plot\n",
        "plt.plot(history.history['accuracy'],color='red',label='train')\n",
        "plt.plot(history.history['val_accuracy'],color='blue',label='validation')\n",
        "plt.legend()\n",
        "plt.show()"
      ]
    },
    {
      "cell_type": "code",
      "execution_count": 32,
      "metadata": {
        "id": "UT8BL5PhanYa",
        "colab": {
          "base_uri": "https://localhost:8080/",
          "height": 430
        },
        "outputId": "bf5b1bb3-fa89-40cf-dea2-61d64105e269"
      },
      "outputs": [
        {
          "output_type": "display_data",
          "data": {
            "text/plain": [
              "<Figure size 640x480 with 1 Axes>"
            ],
            "image/png": "[encoded data removed]"
          },
          "metadata": {}
        }
      ],
      "source": [
        "# Ploting the Loss\n",
        "plt.plot(history.history['loss'],color='red',label='train')\n",
        "plt.plot(history.history['val_loss'],color='blue',label='validation')\n",
        "plt.legend()\n",
        "plt.show()"
      ]
    },
    {
      "cell_type": "code",
      "execution_count": null,
      "metadata": {
        "id": "JieFaWipanjc"
      },
      "outputs": [],
      "source": []
    },
    {
      "cell_type": "code",
      "source": [],
      "metadata": {
        "id": "nokr8Dyrj6yi"
      },
      "execution_count": null,
      "outputs": []
    }
  ],
  "metadata": {
    "accelerator": "GPU",
    "colab": {
      "provenance": []
    },
    "gpuClass": "standard",
    "kernelspec": {
      "display_name": "Python 3",
      "name": "python3"
    },
    "language_info": {
      "name": "python"
    }
  },
  "nbformat": 4,
  "nbformat_minor": 0
}